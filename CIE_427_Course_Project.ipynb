{
  "nbformat": 4,
  "nbformat_minor": 0,
  "metadata": {
    "colab": {
      "provenance": [],
      "collapsed_sections": [
        "nFDjQiyZlP4M",
        "eg1sMROrmEa8",
        "SzpRRYqvmk-h",
        "8y7dueaomryo",
        "r4kVCWahm1G6"
      ],
      "toc_visible": true
    },
    "kernelspec": {
      "name": "python3",
      "display_name": "Python 3"
    },
    "language_info": {
      "name": "python"
    }
  },
  "cells": [
    {
      "cell_type": "code",
      "source": [
        "!pip3 install pyspark==3.0.1"
      ],
      "metadata": {
        "colab": {
          "base_uri": "https://localhost:8080/"
        },
        "id": "SLwHv4fGjKSL",
        "outputId": "644fbcbd-9cdc-43ba-a8c3-e3c783832555"
      },
      "execution_count": null,
      "outputs": [
        {
          "output_type": "stream",
          "name": "stdout",
          "text": [
            "Collecting pyspark==3.0.1\n",
            "  Downloading pyspark-3.0.1.tar.gz (204.2 MB)\n",
            "\u001b[K     |████████████████████████████████| 204.2 MB 35 kB/s \n",
            "\u001b[?25hCollecting py4j==0.10.9\n",
            "  Downloading py4j-0.10.9-py2.py3-none-any.whl (198 kB)\n",
            "\u001b[K     |████████████████████████████████| 198 kB 67.2 MB/s \n",
            "\u001b[?25hBuilding wheels for collected packages: pyspark\n",
            "  Building wheel for pyspark (setup.py) ... \u001b[?25l\u001b[?25hdone\n",
            "  Created wheel for pyspark: filename=pyspark-3.0.1-py2.py3-none-any.whl size=204612246 sha256=d871c9f2dda79acd7eb96f362aed3606b30e07e9ddfa00c8c28adfc27cc75713\n",
            "  Stored in directory: /root/.cache/pip/wheels/5e/34/fa/b37b5cef503fc5148b478b2495043ba61b079120b7ff379f9b\n",
            "Successfully built pyspark\n",
            "Installing collected packages: py4j, pyspark\n",
            "Successfully installed py4j-0.10.9 pyspark-3.0.1\n"
          ]
        }
      ]
    },
    {
      "cell_type": "code",
      "source": [
        "!sudo apt update"
      ],
      "metadata": {
        "colab": {
          "base_uri": "https://localhost:8080/"
        },
        "id": "xQaSuzGCjKFK",
        "outputId": "ceaa39ed-7e96-4c23-e995-2abb8d2374de"
      },
      "execution_count": null,
      "outputs": [
        {
          "output_type": "stream",
          "name": "stdout",
          "text": [
            "\u001b[33m\r0% [Working]\u001b[0m\r            \rGet:1 https://cloud.r-project.org/bin/linux/ubuntu bionic-cran40/ InRelease [3,626 B]\n",
            "\u001b[33m\r0% [Waiting for headers] [Waiting for headers] [1 InRelease 0 B/3,626 B 0%] [Wa\u001b[0m\u001b[33m\r0% [Waiting for headers] [Waiting for headers] [Waiting for headers] [Waiting f\u001b[0m\r                                                                               \rIgn:2 https://developer.download.nvidia.com/compute/cuda/repos/ubuntu1804/x86_64  InRelease\n",
            "\u001b[33m\r0% [Waiting for headers] [Waiting for headers] [Waiting for headers] [Waiting f\u001b[0m\u001b[33m\r0% [1 InRelease gpgv 3,626 B] [Waiting for headers] [Waiting for headers] [Wait\u001b[0m\r                                                                               \rGet:3 http://ppa.launchpad.net/c2d4u.team/c2d4u4.0+/ubuntu bionic InRelease [15.9 kB]\n",
            "Get:4 http://security.ubuntu.com/ubuntu bionic-security InRelease [88.7 kB]\n",
            "Ign:5 https://developer.download.nvidia.com/compute/machine-learning/repos/ubuntu1804/x86_64  InRelease\n",
            "Hit:6 http://archive.ubuntu.com/ubuntu bionic InRelease\n",
            "Hit:7 https://developer.download.nvidia.com/compute/cuda/repos/ubuntu1804/x86_64  Release\n",
            "Hit:8 https://developer.download.nvidia.com/compute/machine-learning/repos/ubuntu1804/x86_64  Release\n",
            "Get:9 http://archive.ubuntu.com/ubuntu bionic-updates InRelease [88.7 kB]\n",
            "Hit:10 http://ppa.launchpad.net/cran/libgit2/ubuntu bionic InRelease\n",
            "Hit:13 http://archive.ubuntu.com/ubuntu bionic-backports InRelease\n",
            "Get:14 http://ppa.launchpad.net/deadsnakes/ppa/ubuntu bionic InRelease [15.9 kB]\n",
            "Get:15 http://ppa.launchpad.net/graphics-drivers/ppa/ubuntu bionic InRelease [21.3 kB]\n",
            "Get:16 http://archive.ubuntu.com/ubuntu bionic-updates/main amd64 Packages [2,929 kB]\n",
            "Get:17 http://ppa.launchpad.net/c2d4u.team/c2d4u4.0+/ubuntu bionic/main Sources [1,822 kB]\n",
            "Get:18 http://security.ubuntu.com/ubuntu bionic-security/multiverse amd64 Packages [26.8 kB]\n",
            "Get:19 http://security.ubuntu.com/ubuntu bionic-security/restricted amd64 Packages [716 kB]\n",
            "Get:20 http://archive.ubuntu.com/ubuntu bionic-updates/universe amd64 Packages [2,238 kB]\n",
            "Get:21 http://archive.ubuntu.com/ubuntu bionic-updates/multiverse amd64 Packages [34.5 kB]\n",
            "Get:22 http://archive.ubuntu.com/ubuntu bionic-updates/restricted amd64 Packages [749 kB]\n",
            "Get:23 http://ppa.launchpad.net/c2d4u.team/c2d4u4.0+/ubuntu bionic/main amd64 Packages [934 kB]\n",
            "Get:24 http://ppa.launchpad.net/deadsnakes/ppa/ubuntu bionic/main amd64 Packages [45.3 kB]\n",
            "Get:25 http://security.ubuntu.com/ubuntu bionic-security/universe amd64 Packages [1,459 kB]\n",
            "Get:26 http://ppa.launchpad.net/graphics-drivers/ppa/ubuntu bionic/main amd64 Packages [44.7 kB]\n",
            "Get:27 http://security.ubuntu.com/ubuntu bionic-security/main amd64 Packages [2,489 kB]\n",
            "Fetched 13.7 MB in 4s (3,237 kB/s)\n",
            "Reading package lists... Done\n",
            "Building dependency tree       \n",
            "Reading state information... Done\n",
            "59 packages can be upgraded. Run 'apt list --upgradable' to see them.\n"
          ]
        }
      ]
    },
    {
      "cell_type": "code",
      "source": [
        "!apt-get install openjdk-8-jdk-headless -qq > /dev/null\n",
        "!wget -q https://archive.apache.org/dist/spark/spark-3.0.1/spark-3.0.1-bin-hadoop2.7.tgz  #install Apache Spark\n",
        "!tar xf spark-3.0.1-bin-hadoop2.7.tgz\n",
        "\n",
        "import os \n",
        "os.environ['JAVA_HOME']='/usr/lib/jvm/java-8-openjdk-amd64'\n",
        "os.environ['SPARK_HOME']='/content/spark-3.0.1-bin-hadoop2.7'"
      ],
      "metadata": {
        "id": "4up5BBX6jJtv"
      },
      "execution_count": null,
      "outputs": []
    },
    {
      "cell_type": "code",
      "source": [
        "!pip install findspark"
      ],
      "metadata": {
        "colab": {
          "base_uri": "https://localhost:8080/"
        },
        "id": "pXHDf_stjm-_",
        "outputId": "63c27d8b-82eb-4dd0-e689-990e65ceb47a"
      },
      "execution_count": null,
      "outputs": [
        {
          "output_type": "stream",
          "name": "stdout",
          "text": [
            "Collecting findspark\n",
            "  Downloading findspark-1.4.2-py2.py3-none-any.whl (4.2 kB)\n",
            "Installing collected packages: findspark\n",
            "Successfully installed findspark-1.4.2\n"
          ]
        }
      ]
    },
    {
      "cell_type": "markdown",
      "source": [
        "# *Importing libraries and modules and loading the data:*"
      ],
      "metadata": {
        "id": "bSvfly5CzwmX"
      }
    },
    {
      "cell_type": "code",
      "source": [
        "import os\n",
        "import pandas as pd\n",
        "import numpy as np\n",
        "from termcolor import colored\n",
        "import gdown\n",
        "\n",
        "from pyspark.sql import SparkSession\n",
        "from pyspark.sql.types import *\n",
        "import pyspark.sql.functions as f\n",
        "\n",
        "import findspark\n",
        "findspark.init()"
      ],
      "metadata": {
        "id": "HJI5uRiioNY3"
      },
      "execution_count": null,
      "outputs": []
    },
    {
      "cell_type": "code",
      "source": [
        "!gdown --id 1oDcTYWLry7jo3nij3TGxFOGHVP6-LjPt"
      ],
      "metadata": {
        "colab": {
          "base_uri": "https://localhost:8080/"
        },
        "id": "D_oF5UqkvVSL",
        "outputId": "d686e233-1f12-4828-b3b3-2c3710171d47"
      },
      "execution_count": null,
      "outputs": [
        {
          "output_type": "stream",
          "name": "stdout",
          "text": [
            "Downloading...\n",
            "From: https://drive.google.com/uc?id=1oDcTYWLry7jo3nij3TGxFOGHVP6-LjPt\n",
            "To: /content/2019-Oct.csv.zip\n",
            "100% 1.73G/1.73G [00:12<00:00, 136MB/s]\n"
          ]
        }
      ]
    },
    {
      "cell_type": "code",
      "source": [
        "!unzip \"/content/2019-Oct.csv.zip\" -d \"/content\""
      ],
      "metadata": {
        "colab": {
          "base_uri": "https://localhost:8080/"
        },
        "id": "Vm3RGpUKyi_g",
        "outputId": "1eb15da3-a56c-43b3-95b1-8de7a2c636ae"
      },
      "execution_count": null,
      "outputs": [
        {
          "output_type": "stream",
          "name": "stdout",
          "text": [
            "Archive:  /content/2019-Oct.csv.zip\n",
            "  inflating: /content/2019-Oct.csv   \n"
          ]
        }
      ]
    },
    {
      "cell_type": "code",
      "source": [
        "new_session = SparkSession.builder.master(\"local\").appName(\"CIE_427_Final_Project\").getOrCreate()"
      ],
      "metadata": {
        "id": "dLyt88LqpJfq"
      },
      "execution_count": null,
      "outputs": []
    },
    {
      "cell_type": "code",
      "source": [
        "dataset = new_session.read.format(\"csv\").option(\"delimiter\", \",\").option(\"ESCAPE quote\", '\"'). option(\"header\",True).load(\"/content/2019-Oct.csv\")\n",
        "dataset.show(10)"
      ],
      "metadata": {
        "colab": {
          "base_uri": "https://localhost:8080/"
        },
        "id": "TuLTwEUp3-o0",
        "outputId": "5b920ad1-090c-4b99-b3ce-e21b7571fb00"
      },
      "execution_count": null,
      "outputs": [
        {
          "output_type": "stream",
          "name": "stdout",
          "text": [
            "+--------------------+----------+----------+-------------------+--------------------+--------+-------+---------+--------------------+\n",
            "|          event_time|event_type|product_id|        category_id|       category_code|   brand|  price|  user_id|        user_session|\n",
            "+--------------------+----------+----------+-------------------+--------------------+--------+-------+---------+--------------------+\n",
            "|2019-10-01 00:00:...|      view|  44600062|2103807459595387724|                null|shiseido|  35.79|541312140|72d76fde-8bb3-4e0...|\n",
            "|2019-10-01 00:00:...|      view|   3900821|2053013552326770905|appliances.enviro...|    aqua|  33.20|554748717|9333dfbd-b87a-470...|\n",
            "|2019-10-01 00:00:...|      view|  17200506|2053013559792632471|furniture.living_...|    null| 543.10|519107250|566511c2-e2e3-422...|\n",
            "|2019-10-01 00:00:...|      view|   1307067|2053013558920217191|  computers.notebook|  lenovo| 251.74|550050854|7c90fc70-0e80-459...|\n",
            "|2019-10-01 00:00:...|      view|   1004237|2053013555631882655|electronics.smart...|   apple|1081.98|535871217|c6bd7419-2748-4c5...|\n",
            "|2019-10-01 00:00:...|      view|   1480613|2053013561092866779|   computers.desktop|  pulser| 908.62|512742880|0d0d91c2-c9c2-4e8...|\n",
            "|2019-10-01 00:00:...|      view|  17300353|2053013553853497655|                null|   creed| 380.96|555447699|4fe811e9-91de-46d...|\n",
            "|2019-10-01 00:00:...|      view|  31500053|2053013558031024687|                null|luminarc|  41.16|550978835|6280d577-25c8-414...|\n",
            "|2019-10-01 00:00:...|      view|  28719074|2053013565480109009|  apparel.shoes.keds|   baden| 102.71|520571932|ac1cd4e5-a3ce-422...|\n",
            "|2019-10-01 00:00:...|      view|   1004545|2053013555631882655|electronics.smart...|  huawei| 566.01|537918940|406c46ed-90a4-478...|\n",
            "+--------------------+----------+----------+-------------------+--------------------+--------+-------+---------+--------------------+\n",
            "only showing top 10 rows\n",
            "\n"
          ]
        }
      ]
    },
    {
      "cell_type": "markdown",
      "source": [
        "# *Project requirments:*"
      ],
      "metadata": {
        "id": "Cn9-Pv3pk9Dx"
      }
    },
    {
      "cell_type": "markdown",
      "source": [
        "## *$1^{st}$ Requirment:*"
      ],
      "metadata": {
        "id": "nFDjQiyZlP4M"
      }
    },
    {
      "cell_type": "markdown",
      "source": [
        "### top brands "
      ],
      "metadata": {
        "id": "DqmeybPA-mdl"
      }
    },
    {
      "cell_type": "code",
      "source": [
        "top_brands = dataset.groupBy([\"brand\",\"event_type\"]).count().sort('count', ascending = False).na.drop('any')\n",
        "top_brands.cache()"
      ],
      "metadata": {
        "id": "HBXZke63sHxZ"
      },
      "execution_count": null,
      "outputs": []
    },
    {
      "cell_type": "code",
      "source": [
        "top_brands.show(10) # Top 10 brands."
      ],
      "metadata": {
        "id": "AGTpFIu2seoc"
      },
      "execution_count": null,
      "outputs": []
    },
    {
      "cell_type": "code",
      "source": [],
      "metadata": {
        "colab": {
          "base_uri": "https://localhost:8080/"
        },
        "id": "ovMqV7SJ78N0",
        "outputId": "0ce5c02a-25d5-46ae-d66e-23e59cf27ad8"
      },
      "execution_count": null,
      "outputs": [
        {
          "output_type": "stream",
          "name": "stdout",
          "text": [
            "+-------+----------+-------+\n",
            "|  brand|event_type|  count|\n",
            "+-------+----------+-------+\n",
            "|samsung|      view|4806630|\n",
            "|  apple|      view|3770597|\n",
            "| xiaomi|      view|2922650|\n",
            "| huawei|      view|1045572|\n",
            "|lucente|      view| 644283|\n",
            "|  bosch|      view| 544230|\n",
            "|     lg|      view| 540131|\n",
            "|   oppo|      view| 451449|\n",
            "|   sony|      view| 439855|\n",
            "|   acer|      view| 411871|\n",
            "+-------+----------+-------+\n",
            "only showing top 10 rows\n",
            "\n"
          ]
        }
      ]
    },
    {
      "cell_type": "markdown",
      "source": [
        "### top viewed brands"
      ],
      "metadata": {
        "id": "t3n4rXFf-qvW"
      }
    },
    {
      "cell_type": "code",
      "source": [
        "top_viewed_brands = top_brands.filter(top_brands.event_type == 'view') \n",
        "top_viewed_brands.cache()"
      ],
      "metadata": {
        "id": "VquY5OGLsO3b"
      },
      "execution_count": null,
      "outputs": []
    },
    {
      "cell_type": "code",
      "source": [
        "top_viewed_brands.show(10) # Top 10 viewed brands."
      ],
      "metadata": {
        "id": "s0QOyLLksThD"
      },
      "execution_count": null,
      "outputs": []
    },
    {
      "cell_type": "markdown",
      "source": [
        "### top purchased brands"
      ],
      "metadata": {
        "id": "PRVsvpM2-t9z"
      }
    },
    {
      "cell_type": "code",
      "source": [
        "top_purchased_brands = top_viewed_brands.filter(top_viewed_brands.event_type == 'purchase') \n",
        "top_purchased_brands.cache()"
      ],
      "metadata": {
        "id": "rxf48cVeBt2I"
      },
      "execution_count": null,
      "outputs": []
    },
    {
      "cell_type": "code",
      "source": [
        "top_purchased_brands.show(10) # Top 10 purchased brands."
      ],
      "metadata": {
        "colab": {
          "base_uri": "https://localhost:8080/"
        },
        "id": "O6w4VPy2-QYl",
        "outputId": "be8a5ff8-1833-4870-d7db-a3c31ece08be"
      },
      "execution_count": null,
      "outputs": [
        {
          "output_type": "stream",
          "name": "stdout",
          "text": [
            "+--------+----------+------+\n",
            "|   brand|event_type| count|\n",
            "+--------+----------+------+\n",
            "| samsung|  purchase|172896|\n",
            "|   apple|  purchase|142873|\n",
            "|  xiaomi|  purchase| 56616|\n",
            "|  huawei|  purchase| 23501|\n",
            "| lucente|  purchase| 11578|\n",
            "|    oppo|  purchase| 10891|\n",
            "|cordiant|  purchase| 10551|\n",
            "|      lg|  purchase|  8727|\n",
            "|    acer|  purchase|  6882|\n",
            "|    sony|  purchase|  6729|\n",
            "+--------+----------+------+\n",
            "only showing top 10 rows\n",
            "\n"
          ]
        }
      ]
    },
    {
      "cell_type": "markdown",
      "source": [
        "## *$2^{nd}$ Requirment:*"
      ],
      "metadata": {
        "id": "eg1sMROrmEa8"
      }
    },
    {
      "cell_type": "code",
      "source": [
        "# Get names of the 10 top purchased brands.\n",
        "top_brands = list()\n",
        "top_brands_count = 10\n",
        "\n",
        "for i in range(top_brands_count):\n",
        "  brand_name = top_purchased_brands.collect()[i]['brand']\n",
        "  top_brands.append(brand_name)\n",
        "\n",
        "print(colored('The top 10 brands are ', 'red') + top_brands[0] + ', ' + top_brands[1] + ', ' + top_brands[2] + ', ' + top_brands[3] + ', ' + top_brands[4] + ', ' + top_brands[5] + ', ' + top_brands[6] + ', ' + top_brands[7] + ', ' + top_brands[8] + ', ' + top_brands[9])"
      ],
      "metadata": {
        "colab": {
          "base_uri": "https://localhost:8080/"
        },
        "id": "kuR_Lh-OGutI",
        "outputId": "2f2a6df4-eb28-4dde-fdc7-84e0ee5a2861"
      },
      "execution_count": null,
      "outputs": [
        {
          "output_type": "stream",
          "name": "stdout",
          "text": [
            "\u001b[31mThe top 10 brands are \u001b[0msamsung, apple, xiaomi, huawei, lucente, oppo, cordiant, lg, acer, sony\n"
          ]
        }
      ]
    },
    {
      "cell_type": "code",
      "source": [
        "# Get the most purchased item per brand.\n",
        "for i in range(top_brands_count):\n",
        "  brands_items = dataset.groupBy([\"brand\", \"category_code\"]).count().filter(dataset.brand == top_brands[i]).sort(['count'], ascending = False).na.drop('any').collect()\n",
        "  \n",
        "  if brands_items:\n",
        "    most_purchased_item = brands_items[0][\"category_code\"].split('.')\n",
        "    most_purchased_item = ' '.join(most_purchased_item[1:])\n",
        "  \n",
        "    print(colored('Brand: ','red') + brands_items[0][\"brand\"] + colored(', Most purchased item: ','red') + most_purchased_item)\n",
        "    "
      ],
      "metadata": {
        "colab": {
          "base_uri": "https://localhost:8080/"
        },
        "id": "kfWLJfLqWQ4r",
        "outputId": "902e68b6-312b-4eb3-91de-5a6f38a2ebf4"
      },
      "execution_count": null,
      "outputs": [
        {
          "output_type": "stream",
          "name": "stdout",
          "text": [
            "\u001b[31mBrand: \u001b[0msamsung\u001b[31m, Most purchased item: \u001b[0msmartphone\n",
            "\u001b[31mBrand: \u001b[0mapple\u001b[31m, Most purchased item: \u001b[0msmartphone\n",
            "\u001b[31mBrand: \u001b[0mxiaomi\u001b[31m, Most purchased item: \u001b[0msmartphone\n",
            "\u001b[31mBrand: \u001b[0mhuawei\u001b[31m, Most purchased item: \u001b[0msmartphone\n",
            "\u001b[31mBrand: \u001b[0moppo\u001b[31m, Most purchased item: \u001b[0msmartphone\n",
            "\u001b[31mBrand: \u001b[0mlg\u001b[31m, Most purchased item: \u001b[0mkitchen washer\n",
            "\u001b[31mBrand: \u001b[0macer\u001b[31m, Most purchased item: \u001b[0mnotebook\n",
            "\u001b[31mBrand: \u001b[0msony\u001b[31m, Most purchased item: \u001b[0msmartphone\n"
          ]
        }
      ]
    },
    {
      "cell_type": "markdown",
      "source": [
        "## *$3^{rd}$ Requirment:*"
      ],
      "metadata": {
        "id": "SzpRRYqvmk-h"
      }
    },
    {
      "cell_type": "code",
      "source": [
        "most_purchasing_users = dataset.groupBy([\"user_id\",\"event_type\"]).count().filter(dataset.event_type == 'purchase').sort('count', ascending = False).na.drop('any')\n",
        "\n",
        "most_purchasing_users.cache()\n",
        "most_purchasing_users.show(20) #Top 20 purchasing users."
      ],
      "metadata": {
        "colab": {
          "base_uri": "https://localhost:8080/"
        },
        "id": "ZqijCQwqZnhL",
        "outputId": "3ae1da3d-a74a-44cc-9b86-afe62bde204a"
      },
      "execution_count": null,
      "outputs": [
        {
          "output_type": "stream",
          "name": "stdout",
          "text": [
            "+---------+----------+-----+\n",
            "|  user_id|event_type|count|\n",
            "+---------+----------+-----+\n",
            "|512386086|  purchase|  322|\n",
            "|523974502|  purchase|  291|\n",
            "|513320236|  purchase|  242|\n",
            "|517728689|  purchase|  204|\n",
            "|543312954|  purchase|  193|\n",
            "|513117637|  purchase|  185|\n",
            "|519267944|  purchase|  183|\n",
            "|530834332|  purchase|  170|\n",
            "|541510103|  purchase|  165|\n",
            "|549109608|  purchase|  154|\n",
            "|551557821|  purchase|  154|\n",
            "|513322839|  purchase|  146|\n",
            "|546967331|  purchase|  141|\n",
            "|556747652|  purchase|  139|\n",
            "|519322381|  purchase|  136|\n",
            "|558420737|  purchase|  132|\n",
            "|547330965|  purchase|  131|\n",
            "|547101738|  purchase|  130|\n",
            "|525351013|  purchase|  129|\n",
            "|551361102|  purchase|  127|\n",
            "+---------+----------+-----+\n",
            "only showing top 20 rows\n",
            "\n"
          ]
        }
      ]
    },
    {
      "cell_type": "markdown",
      "source": [
        "## *$4^{th}$ Requirment:*"
      ],
      "metadata": {
        "id": "8y7dueaomryo"
      }
    },
    {
      "cell_type": "code",
      "source": [
        "# Get IDs of the 20 top purchasing users. \n",
        "top_users_id = list()\n",
        "top_users_count = 20\n",
        "\n",
        "for i in range(top_users_count):\n",
        "  user_id = most_purchasing_users.collect()[i]['user_id']\n",
        "  top_users_id.append(user_id)\n",
        "top_users_id  "
      ],
      "metadata": {
        "colab": {
          "base_uri": "https://localhost:8080/"
        },
        "id": "Y1CO2QK-fFMA",
        "outputId": "b45232ed-0f35-4c69-ae17-b686d8a61cc5"
      },
      "execution_count": null,
      "outputs": [
        {
          "output_type": "execute_result",
          "data": {
            "text/plain": [
              "['512386086',\n",
              " '523974502',\n",
              " '513320236',\n",
              " '517728689',\n",
              " '543312954',\n",
              " '513117637',\n",
              " '519267944',\n",
              " '530834332',\n",
              " '541510103',\n",
              " '549109608',\n",
              " '551557821',\n",
              " '513322839',\n",
              " '546967331',\n",
              " '556747652',\n",
              " '519322381',\n",
              " '558420737',\n",
              " '547330965',\n",
              " '547101738',\n",
              " '525351013',\n",
              " '551361102']"
            ]
          },
          "metadata": {},
          "execution_count": 170
        }
      ]
    },
    {
      "cell_type": "code",
      "source": [
        "# Get most purchased category per user.\n",
        "for i in range(len(top_users_id)):\n",
        "  user_categories = []\n",
        "\n",
        "  purchased_categories_by_user = dataset.groupBy([\"user_id\", \"category_code\"]).count().filter(dataset.user_id == top_users_id[i]).sort(['count'], ascending = False).na.drop('any').collect()\n",
        "  \n",
        "  for j in range(len(purchased_categories_by_user)):\n",
        "    user_category = purchased_categories_by_user[j][\"category_code\"].split('.')[0]\n",
        "    user_categories.append(user_category)\n",
        "\n",
        "  if user_categories:\n",
        "    most_purchased_category_by_user = max(set(user_categories), key = user_categories.count)\n",
        "    print(colored('User ID: ','red') + top_users_id[i] + ',  ' + colored('Most purchased category:','red') + most_purchased_category_by_user)\n",
        "    "
      ],
      "metadata": {
        "id": "_kpxfToGiATZ",
        "colab": {
          "base_uri": "https://localhost:8080/"
        },
        "outputId": "4cb48ef3-d1b5-4e4f-f803-11affb266733"
      },
      "execution_count": null,
      "outputs": [
        {
          "output_type": "stream",
          "name": "stdout",
          "text": [
            "\u001b[31mUser ID: \u001b[0m512386086,  \u001b[31mMost purchased category:\u001b[0mappliances\n",
            "\u001b[31mUser ID: \u001b[0m523974502,  \u001b[31mMost purchased category:\u001b[0mappliances\n",
            "\u001b[31mUser ID: \u001b[0m513320236,  \u001b[31mMost purchased category:\u001b[0mappliances\n",
            "\u001b[31mUser ID: \u001b[0m517728689,  \u001b[31mMost purchased category:\u001b[0mapparel\n",
            "\u001b[31mUser ID: \u001b[0m543312954,  \u001b[31mMost purchased category:\u001b[0mappliances\n",
            "\u001b[31mUser ID: \u001b[0m513117637,  \u001b[31mMost purchased category:\u001b[0melectronics\n",
            "\u001b[31mUser ID: \u001b[0m519267944,  \u001b[31mMost purchased category:\u001b[0melectronics\n",
            "\u001b[31mUser ID: \u001b[0m530834332,  \u001b[31mMost purchased category:\u001b[0melectronics\n",
            "\u001b[31mUser ID: \u001b[0m541510103,  \u001b[31mMost purchased category:\u001b[0melectronics\n",
            "\u001b[31mUser ID: \u001b[0m549109608,  \u001b[31mMost purchased category:\u001b[0melectronics\n",
            "\u001b[31mUser ID: \u001b[0m551557821,  \u001b[31mMost purchased category:\u001b[0melectronics\n",
            "\u001b[31mUser ID: \u001b[0m513322839,  \u001b[31mMost purchased category:\u001b[0melectronics\n",
            "\u001b[31mUser ID: \u001b[0m546967331,  \u001b[31mMost purchased category:\u001b[0melectronics\n",
            "\u001b[31mUser ID: \u001b[0m556747652,  \u001b[31mMost purchased category:\u001b[0mappliances\n",
            "\u001b[31mUser ID: \u001b[0m519322381,  \u001b[31mMost purchased category:\u001b[0melectronics\n",
            "\u001b[31mUser ID: \u001b[0m558420737,  \u001b[31mMost purchased category:\u001b[0melectronics\n",
            "\u001b[31mUser ID: \u001b[0m547330965,  \u001b[31mMost purchased category:\u001b[0melectronics\n",
            "\u001b[31mUser ID: \u001b[0m547101738,  \u001b[31mMost purchased category:\u001b[0mappliances\n",
            "\u001b[31mUser ID: \u001b[0m525351013,  \u001b[31mMost purchased category:\u001b[0mappliances\n",
            "\u001b[31mUser ID: \u001b[0m551361102,  \u001b[31mMost purchased category:\u001b[0melectronics\n"
          ]
        }
      ]
    },
    {
      "cell_type": "markdown",
      "source": [
        "## *$5^{th}$ Requirment:*"
      ],
      "metadata": {
        "id": "r4kVCWahm1G6"
      }
    },
    {
      "cell_type": "code",
      "source": [
        "added_to_cart = dataset.groupBy([\"brand\",\"event_type\"]).count().filter(dataset.event_type == 'cart').sort('count', ascending = False).na.drop('any')\n",
        "added_to_cart.show(10) # Top 10 brands added to cart."
      ],
      "metadata": {
        "colab": {
          "base_uri": "https://localhost:8080/"
        },
        "id": "v8VJwZX042ct",
        "outputId": "5dd6449b-4012-4d6d-bdb1-44c345b26137"
      },
      "execution_count": null,
      "outputs": [
        {
          "output_type": "stream",
          "name": "stdout",
          "text": [
            "+--------+----------+------+\n",
            "|   brand|event_type| count|\n",
            "+--------+----------+------+\n",
            "| samsung|      cart|303249|\n",
            "|   apple|      cart|209084|\n",
            "|  xiaomi|      cart|104497|\n",
            "|  huawei|      cart| 42132|\n",
            "|    oppo|      cart| 20547|\n",
            "|      lg|      cart| 13546|\n",
            "|    sony|      cart| 10060|\n",
            "|    acer|      cart|  9400|\n",
            "|elenberg|      cart|  8598|\n",
            "|   bosch|      cart|  7155|\n",
            "+--------+----------+------+\n",
            "only showing top 10 rows\n",
            "\n"
          ]
        }
      ]
    },
    {
      "cell_type": "code",
      "source": [
        "removed_from_cart = dataset.groupBy([\"brand\",\"event_type\"]).count().filter(dataset.event_type == 'remove_from_cart').sort('count', ascending = False)\n",
        "removed_from_cart.show(10) # Top 10 brands removed from cart."
      ],
      "metadata": {
        "colab": {
          "base_uri": "https://localhost:8080/"
        },
        "id": "a1Ep_bFFekWk",
        "outputId": "08131660-f689-4874-a8a4-e2e6aae3a89c"
      },
      "execution_count": null,
      "outputs": [
        {
          "output_type": "stream",
          "name": "stdout",
          "text": [
            "+-----+----------+-----+\n",
            "|brand|event_type|count|\n",
            "+-----+----------+-----+\n",
            "+-----+----------+-----+\n",
            "\n"
          ]
        }
      ]
    },
    {
      "cell_type": "markdown",
      "source": [
        "## *$6^{th}$ Requirment:*"
      ],
      "metadata": {
        "id": "jIJz7VLSm5Ug"
      }
    },
    {
      "cell_type": "code",
      "source": [
        "category_names_dataset = dataset.withColumn('category_name', f.split('category_code', '\\.').getItem(0))"
      ],
      "metadata": {
        "id": "dIg3R1v7rDM7"
      },
      "execution_count": null,
      "outputs": []
    },
    {
      "cell_type": "code",
      "source": [
        "category_names_dataset.show()"
      ],
      "metadata": {
        "colab": {
          "base_uri": "https://localhost:8080/"
        },
        "id": "_VZ9D4NHroOI",
        "outputId": "3633fd83-9c47-4f87-97eb-5e3145b6f074"
      },
      "execution_count": null,
      "outputs": [
        {
          "output_type": "stream",
          "name": "stdout",
          "text": [
            "+--------------------+----------+----------+-------------------+--------------------+--------+-------+---------+--------------------+-------------+\n",
            "|          event_time|event_type|product_id|        category_id|       category_code|   brand|  price|  user_id|        user_session|category_name|\n",
            "+--------------------+----------+----------+-------------------+--------------------+--------+-------+---------+--------------------+-------------+\n",
            "|2019-10-01 00:00:...|      view|  44600062|2103807459595387724|                null|shiseido|  35.79|541312140|72d76fde-8bb3-4e0...|         null|\n",
            "|2019-10-01 00:00:...|      view|   3900821|2053013552326770905|appliances.enviro...|    aqua|  33.20|554748717|9333dfbd-b87a-470...|   appliances|\n",
            "|2019-10-01 00:00:...|      view|  17200506|2053013559792632471|furniture.living_...|    null| 543.10|519107250|566511c2-e2e3-422...|    furniture|\n",
            "|2019-10-01 00:00:...|      view|   1307067|2053013558920217191|  computers.notebook|  lenovo| 251.74|550050854|7c90fc70-0e80-459...|    computers|\n",
            "|2019-10-01 00:00:...|      view|   1004237|2053013555631882655|electronics.smart...|   apple|1081.98|535871217|c6bd7419-2748-4c5...|  electronics|\n",
            "|2019-10-01 00:00:...|      view|   1480613|2053013561092866779|   computers.desktop|  pulser| 908.62|512742880|0d0d91c2-c9c2-4e8...|    computers|\n",
            "|2019-10-01 00:00:...|      view|  17300353|2053013553853497655|                null|   creed| 380.96|555447699|4fe811e9-91de-46d...|         null|\n",
            "|2019-10-01 00:00:...|      view|  31500053|2053013558031024687|                null|luminarc|  41.16|550978835|6280d577-25c8-414...|         null|\n",
            "|2019-10-01 00:00:...|      view|  28719074|2053013565480109009|  apparel.shoes.keds|   baden| 102.71|520571932|ac1cd4e5-a3ce-422...|      apparel|\n",
            "|2019-10-01 00:00:...|      view|   1004545|2053013555631882655|electronics.smart...|  huawei| 566.01|537918940|406c46ed-90a4-478...|  electronics|\n",
            "|2019-10-01 00:00:...|      view|   2900536|2053013554776244595|appliances.kitche...|elenberg|  51.46|555158050|b5bdd0b3-4ca2-4c5...|   appliances|\n",
            "|2019-10-01 00:00:...|      view|   1005011|2053013555631882655|electronics.smart...| samsung| 900.64|530282093|50a293fb-5940-41b...|  electronics|\n",
            "|2019-10-01 00:00:...|      view|   3900746|2053013552326770905|appliances.enviro...|   haier| 102.38|555444559|98b88fa0-d8fa-4b9...|   appliances|\n",
            "|2019-10-01 00:00:...|      view|  44600062|2103807459595387724|                null|shiseido|  35.79|541312140|72d76fde-8bb3-4e0...|         null|\n",
            "|2019-10-01 00:00:...|      view|  13500240|2053013557099889147|furniture.bedroom...|     brw|  93.18|555446365|7f0062d8-ead0-4e0...|    furniture|\n",
            "|2019-10-01 00:00:...|      view|  23100006|2053013561638126333|                null|    null| 357.79|513642368|17566c27-0a8f-450...|         null|\n",
            "|2019-10-01 00:00:...|      view|   1801995|2053013554415534427|electronics.video.tv|   haier| 193.03|537192226|e3151795-c355-4ef...|  electronics|\n",
            "|2019-10-01 00:00:...|      view|  10900029|2053013555069845885|appliances.kitche...|   bosch|  58.95|519528062|901b9e3c-3f8f-414...|   appliances|\n",
            "|2019-10-01 00:00:...|      view|   1306631|2053013558920217191|  computers.notebook|      hp| 580.89|550050854|7c90fc70-0e80-459...|    computers|\n",
            "|2019-10-01 00:00:...|      view|   1005135|2053013555631882655|electronics.smart...|   apple|1747.79|535871217|c6bd7419-2748-4c5...|  electronics|\n",
            "+--------------------+----------+----------+-------------------+--------------------+--------+-------+---------+--------------------+-------------+\n",
            "only showing top 20 rows\n",
            "\n"
          ]
        }
      ]
    },
    {
      "cell_type": "code",
      "source": [
        "viewed_categories = category_names_dataset.groupBy([\"category_name\", \"event_type\"]).count().filter(category_names_dataset.event_type == 'view').sort('count', ascending = False).na.drop('any')\n",
        "viewed_categories.show(10) # Top 10 most viewed categories."
      ],
      "metadata": {
        "colab": {
          "base_uri": "https://localhost:8080/"
        },
        "id": "i3cg_A5Rm8nh",
        "outputId": "a51720c7-f8df-4cfb-9345-e3fece3f6d9e"
      },
      "execution_count": null,
      "outputs": [
        {
          "output_type": "stream",
          "name": "stdout",
          "text": [
            "+-------------+----------+--------+\n",
            "|category_name|event_type|   count|\n",
            "+-------------+----------+--------+\n",
            "|  electronics|      view|15038390|\n",
            "|   appliances|      view| 4799936|\n",
            "|    computers|      view| 2268928|\n",
            "|      apparel|      view| 1534896|\n",
            "|    furniture|      view| 1236452|\n",
            "|         auto|      view|  993428|\n",
            "| construction|      view|  712690|\n",
            "|         kids|      view|  512485|\n",
            "|  accessories|      view|  236102|\n",
            "|        sport|      view|  174324|\n",
            "+-------------+----------+--------+\n",
            "only showing top 10 rows\n",
            "\n"
          ]
        }
      ]
    },
    {
      "cell_type": "markdown",
      "source": [
        "# *Machine learning requirement:*"
      ],
      "metadata": {
        "id": "sjLQOAwzA764"
      }
    },
    {
      "cell_type": "markdown",
      "source": [
        "### import libraries"
      ],
      "metadata": {
        "id": "-bZLdan6rQu7"
      }
    },
    {
      "cell_type": "code",
      "source": [
        "from pyspark.ml.classification import LogisticRegression\n",
        "from pyspark.ml.feature import StringIndexer, OneHotEncoder\n",
        "from pyspark.ml.feature import VectorAssembler\n",
        "from pyspark.ml import Pipeline"
      ],
      "metadata": {
        "id": "IAkxXcpxrQNz"
      },
      "execution_count": null,
      "outputs": []
    },
    {
      "cell_type": "code",
      "source": [
        "df_pur_cart = dataset.filter((dataset.event_type == 'purchase') | (dataset.event_type == 'cart') )"
      ],
      "metadata": {
        "id": "keJbwmCQqwEB"
      },
      "execution_count": null,
      "outputs": []
    },
    {
      "cell_type": "code",
      "source": [
        "df_dis=df_pur_cart.dropDuplicates(['event_type', 'product_id','price','user_id','user_session'])"
      ],
      "metadata": {
        "id": "aM_7dqfGqwiZ"
      },
      "execution_count": null,
      "outputs": []
    },
    {
      "cell_type": "code",
      "source": [
        "from pyspark.sql import functions as f\n",
        "df_addcol=df_dis.withColumn('is_purchased', f.when(f.col('event_type') == 'purchase', 1).otherwise(0))"
      ],
      "metadata": {
        "id": "tO5v34zGqyWg"
      },
      "execution_count": null,
      "outputs": []
    },
    {
      "cell_type": "code",
      "source": [
        "df_fin2=df_addcol.select('event_time','brand','category_code','price','is_purchased')"
      ],
      "metadata": {
        "id": "QS3BJcEkq4lA"
      },
      "execution_count": null,
      "outputs": []
    },
    {
      "cell_type": "code",
      "source": [
        "(training_data, test_data) = df_fin2.randomSplit([0.8,0.2], seed = 2022)"
      ],
      "metadata": {
        "id": "g_MGD0-1q6ve"
      },
      "execution_count": null,
      "outputs": []
    },
    {
      "cell_type": "code",
      "source": [
        "# define stage 1: transform the column feature_2 to numeric\n",
        "stage_1 = StringIndexer(inputCol= 'event_time', outputCol= 'event_time_index')\n",
        "stage_1.setHandleInvalid(\"skip\")\n",
        "# define stage 2: transform the column feature_3 to numeric\n",
        "stage_2 = StringIndexer(inputCol= 'brand', outputCol= 'brand_index').setHandleInvalid(\"skip\")\n",
        "\n",
        "stage_3 = StringIndexer(inputCol= 'category_code', outputCol= 'category_code_index').setHandleInvalid(\"skip\")\n",
        "\n",
        "stage_4 = StringIndexer(inputCol= 'price', outputCol= 'price_index').setHandleInvalid(\"skip\")\n",
        "\n",
        "\n",
        "# define stage 3: one hot encode the numeric versions of feature 2 and 3 generated from stage 1 and stage 2\n",
        "stage_5 = OneHotEncoder(inputCols=[stage_1.getOutputCol(), stage_2.getOutputCol(),stage_3.getOutputCol(),stage_4.getOutputCol()], \n",
        "                                 outputCols= ['event_time_encoded', 'brand_encoded','category_code_encoded','price_encoded'])\n",
        "# define stage 4: create a vector of all the features required to train the logistic regression model \n",
        "stage_6 = VectorAssembler(inputCols=['event_time_encoded', 'brand_encoded','category_code_encoded','price_encoded'],\n",
        "                          outputCol='features')\n",
        "# define stage 5: logistic regression model                          \n",
        "stage_7 = LogisticRegression(featuresCol='features',labelCol='is_purchased')\n",
        "\n",
        "# setup the pipeline\n",
        "regression_pipeline = Pipeline(stages= [stage_1, stage_2, stage_3, stage_4, stage_5,stage_6,stage_7])\n",
        "\n",
        "# fit the pipeline for the trainind data\n",
        "model = regression_pipeline.fit(training_data)\n",
        "# transform the data\n",
        "training_data = model.transform(training_data)\n",
        "\n",
        "# view some of the columns generated\n",
        "training_data.select('features', 'is_purchased', 'rawPrediction', 'probability', 'prediction').show()"
      ],
      "metadata": {
        "id": "9aCq0Z1RrN2F"
      },
      "execution_count": null,
      "outputs": []
    },
    {
      "cell_type": "markdown",
      "source": [
        "TO display the ROC curve "
      ],
      "metadata": {
        "id": "UZ86m8GDrsBn"
      }
    },
    {
      "cell_type": "code",
      "source": [
        "training_summary = model.stages[-1].summary\n",
        "roc = training_summary.roc.toPandas()\n",
        "plt.plot(roc['FPR'],roc['TPR'])\n",
        "plt.ylabel('False +ve Rate')\n",
        "plt.xlabel('True +ve Rate')\n",
        "plt.title('ROC Curve')\n",
        "plt.show()\n",
        "print('Training ROC: ' + str(training_summary.areaUnderROC))"
      ],
      "metadata": {
        "id": "AEhYz85vrrfL"
      },
      "execution_count": null,
      "outputs": []
    }
  ]
}